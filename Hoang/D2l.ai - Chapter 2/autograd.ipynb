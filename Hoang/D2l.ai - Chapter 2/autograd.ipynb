{
 "cells": [
  {
   "cell_type": "markdown",
   "id": "daf8b31c",
   "metadata": {
    "origin_pos": 1,
    "id": "daf8b31c"
   },
   "source": [
    "# Automatic Differentiation\n",
    ":label:`sec_autograd`\n",
    "\n",
    "Recall from :numref:`sec_calculus`\n",
    "that calculating derivatives is the crucial step\n",
    "in all the optimization algorithms\n",
    "that we will use to train deep networks.\n",
    "While the calculations are straightforward,\n",
    "working them out by hand can be tedious and error-prone,\n",
    "and these issues only grow\n",
    "as our models become more complex.\n",
    "\n",
    "Fortunately all modern deep learning frameworks\n",
    "take this work off our plates\n",
    "by offering *automatic differentiation*\n",
    "(often shortened to *autograd*).\n",
    "As we pass data through each successive function,\n",
    "the framework builds a *computational graph*\n",
    "that tracks how each value depends on others.\n",
    "To calculate derivatives,\n",
    "automatic differentiation\n",
    "works backwards through this graph\n",
    "applying the chain rule.\n",
    "The computational algorithm for applying the chain rule\n",
    "in this fashion is called *backpropagation*.\n",
    "\n",
    "While autograd libraries have become\n",
    "a hot concern over the past decade,\n",
    "they have a long history.\n",
    "In fact the earliest references to autograd\n",
    "date back over half of a century :cite:`Wengert.1964`.\n",
    "The core ideas behind modern backpropagation\n",
    "date to a PhD thesis from 1980 :cite:`Speelpenning.1980`\n",
    "and were further developed in the late 1980s :cite:`Griewank.1989`.\n",
    "While backpropagation has become the default method\n",
    "for computing gradients, it is not the only option.\n",
    "For instance, the Julia programming language employs\n",
    "forward propagation :cite:`Revels.Lubin.Papamarkou.2016`.\n",
    "Before exploring methods,\n",
    "let's first master the autograd package.\n"
   ]
  },
  {
   "cell_type": "code",
   "id": "69f2c009",
   "metadata": {
    "execution": {
     "iopub.execute_input": "2023-08-18T20:06:05.363043Z",
     "iopub.status.busy": "2023-08-18T20:06:05.362156Z",
     "iopub.status.idle": "2023-08-18T20:06:08.248480Z",
     "shell.execute_reply": "2023-08-18T20:06:08.247542Z"
    },
    "origin_pos": 4,
    "tab": [
     "tensorflow"
    ],
    "id": "69f2c009",
    "ExecuteTime": {
     "end_time": "2024-08-28T05:46:57.883638Z",
     "start_time": "2024-08-28T05:46:57.877771Z"
    }
   },
   "source": [
    "import tensorflow as tf"
   ],
   "outputs": [],
   "execution_count": 21
  },
  {
   "cell_type": "markdown",
   "id": "67f09864",
   "metadata": {
    "origin_pos": 6,
    "id": "67f09864"
   },
   "source": [
    "## A Simple Function\n",
    "\n",
    "Let's assume that we are interested\n",
    "in (**differentiating the function\n",
    "$y = 2\\mathbf{x}^{\\top}\\mathbf{x}$\n",
    "with respect to the column vector $\\mathbf{x}$.**)\n",
    "To start, we assign `x` an initial value.\n"
   ]
  },
  {
   "cell_type": "code",
   "id": "4a6f60a4",
   "metadata": {
    "execution": {
     "iopub.execute_input": "2023-08-18T20:06:08.252752Z",
     "iopub.status.busy": "2023-08-18T20:06:08.252007Z",
     "iopub.status.idle": "2023-08-18T20:06:11.382382Z",
     "shell.execute_reply": "2023-08-18T20:06:11.381543Z"
    },
    "origin_pos": 9,
    "tab": [
     "tensorflow"
    ],
    "id": "4a6f60a4",
    "outputId": "b1a74ba1-0b51-4a39-a5a0-ed1bc02815f0",
    "ExecuteTime": {
     "end_time": "2024-08-28T05:46:57.954117Z",
     "start_time": "2024-08-28T05:46:57.939099Z"
    }
   },
   "source": [
    "x = tf.range(4, dtype=tf.float32)\n",
    "x"
   ],
   "outputs": [
    {
     "data": {
      "text/plain": [
       "<tf.Tensor: shape=(4,), dtype=float32, numpy=array([0., 1., 2., 3.], dtype=float32)>"
      ]
     },
     "execution_count": 22,
     "metadata": {},
     "output_type": "execute_result"
    }
   ],
   "execution_count": 22
  },
  {
   "cell_type": "markdown",
   "id": "4ae1557e",
   "metadata": {
    "origin_pos": 11,
    "tab": [
     "tensorflow"
    ],
    "id": "4ae1557e"
   },
   "source": [
    "[**Before we calculate the gradient\n",
    "of $y$ with respect to $\\mathbf{x}$,\n",
    "we need a place to store it.**]\n",
    "In general, we avoid allocating new memory\n",
    "every time we take a derivative\n",
    "because deep learning requires\n",
    "successively computing derivatives\n",
    "with respect to the same parameters\n",
    "a great many times,\n",
    "and we might risk running out of memory.\n",
    "Note that the gradient of a scalar-valued function\n",
    "with respect to a vector $\\mathbf{x}$\n",
    "is vector-valued with\n",
    "the same shape as $\\mathbf{x}$.\n"
   ]
  },
  {
   "cell_type": "code",
   "id": "96dbfaf0",
   "metadata": {
    "execution": {
     "iopub.execute_input": "2023-08-18T20:06:11.387537Z",
     "iopub.status.busy": "2023-08-18T20:06:11.386975Z",
     "iopub.status.idle": "2023-08-18T20:06:11.393377Z",
     "shell.execute_reply": "2023-08-18T20:06:11.392598Z"
    },
    "origin_pos": 14,
    "tab": [
     "tensorflow"
    ],
    "id": "96dbfaf0",
    "ExecuteTime": {
     "end_time": "2024-08-28T05:46:58.173203Z",
     "start_time": "2024-08-28T05:46:58.166452Z"
    }
   },
   "source": [
    "x = tf.Variable(x)"
   ],
   "outputs": [],
   "execution_count": 23
  },
  {
   "cell_type": "markdown",
   "id": "596f9a79",
   "metadata": {
    "origin_pos": 15,
    "id": "596f9a79"
   },
   "source": [
    "(**We now calculate our function of `x` and assign the result to `y`.**)\n"
   ]
  },
  {
   "cell_type": "code",
   "id": "b7cb5a95",
   "metadata": {
    "execution": {
     "iopub.execute_input": "2023-08-18T20:06:11.397819Z",
     "iopub.status.busy": "2023-08-18T20:06:11.397313Z",
     "iopub.status.idle": "2023-08-18T20:06:11.410498Z",
     "shell.execute_reply": "2023-08-18T20:06:11.409672Z"
    },
    "origin_pos": 18,
    "tab": [
     "tensorflow"
    ],
    "id": "b7cb5a95",
    "outputId": "87eee529-1378-4306-86a1-71467374d5da",
    "ExecuteTime": {
     "end_time": "2024-08-28T05:46:58.247725Z",
     "start_time": "2024-08-28T05:46:58.241270Z"
    }
   },
   "source": [
    "# Record all computations onto a tape\n",
    "with tf.GradientTape() as t:\n",
    "    y = 2 * tf.tensordot(x, x, axes=1)\n",
    "y"
   ],
   "outputs": [
    {
     "data": {
      "text/plain": [
       "<tf.Tensor: shape=(), dtype=float32, numpy=28.0>"
      ]
     },
     "execution_count": 24,
     "metadata": {},
     "output_type": "execute_result"
    }
   ],
   "execution_count": 24
  },
  {
   "cell_type": "markdown",
   "id": "6bdc88ca",
   "metadata": {
    "origin_pos": 22,
    "tab": [
     "tensorflow"
    ],
    "id": "6bdc88ca"
   },
   "source": [
    "[**We can now calculate the gradient of `y`\n",
    "with respect to `x`**] by calling\n",
    "the `gradient` method.\n"
   ]
  },
  {
   "cell_type": "code",
   "id": "ca577b1d",
   "metadata": {
    "execution": {
     "iopub.execute_input": "2023-08-18T20:06:11.414882Z",
     "iopub.status.busy": "2023-08-18T20:06:11.414346Z",
     "iopub.status.idle": "2023-08-18T20:06:11.425808Z",
     "shell.execute_reply": "2023-08-18T20:06:11.425045Z"
    },
    "origin_pos": 26,
    "tab": [
     "tensorflow"
    ],
    "id": "ca577b1d",
    "outputId": "a6d9d10a-9b79-4db2-e65f-87cfef29a478",
    "ExecuteTime": {
     "end_time": "2024-08-28T05:46:58.335011Z",
     "start_time": "2024-08-28T05:46:58.329366Z"
    }
   },
   "source": [
    "x_grad = t.gradient(y, x)\n",
    "x_grad"
   ],
   "outputs": [
    {
     "data": {
      "text/plain": [
       "<tf.Tensor: shape=(4,), dtype=float32, numpy=array([ 0.,  4.,  8., 12.], dtype=float32)>"
      ]
     },
     "execution_count": 25,
     "metadata": {},
     "output_type": "execute_result"
    }
   ],
   "execution_count": 25
  },
  {
   "cell_type": "markdown",
   "id": "9abbdc52",
   "metadata": {
    "origin_pos": 28,
    "id": "9abbdc52"
   },
   "source": [
    "(**We already know that the gradient of the function $y = 2\\mathbf{x}^{\\top}\\mathbf{x}$\n",
    "with respect to $\\mathbf{x}$ should be $4\\mathbf{x}$.**)\n",
    "We can now verify that the automatic gradient computation\n",
    "and the expected result are identical.\n"
   ]
  },
  {
   "cell_type": "code",
   "id": "64264b1d",
   "metadata": {
    "execution": {
     "iopub.execute_input": "2023-08-18T20:06:11.430333Z",
     "iopub.status.busy": "2023-08-18T20:06:11.429690Z",
     "iopub.status.idle": "2023-08-18T20:06:11.436204Z",
     "shell.execute_reply": "2023-08-18T20:06:11.435431Z"
    },
    "origin_pos": 31,
    "tab": [
     "tensorflow"
    ],
    "id": "64264b1d",
    "outputId": "16937368-0de6-4788-d649-35f12a98bb63",
    "ExecuteTime": {
     "end_time": "2024-08-28T05:46:58.398943Z",
     "start_time": "2024-08-28T05:46:58.394622Z"
    }
   },
   "source": [
    "x_grad == 4 * x"
   ],
   "outputs": [
    {
     "data": {
      "text/plain": [
       "<tf.Tensor: shape=(4,), dtype=bool, numpy=array([ True,  True,  True,  True])>"
      ]
     },
     "execution_count": 26,
     "metadata": {},
     "output_type": "execute_result"
    }
   ],
   "execution_count": 26
  },
  {
   "cell_type": "markdown",
   "id": "ad07be37",
   "metadata": {
    "origin_pos": 35,
    "tab": [
     "tensorflow"
    ],
    "id": "ad07be37"
   },
   "source": [
    "[**Now let's calculate\n",
    "another function of `x`\n",
    "and take its gradient.**]\n",
    "Note that TensorFlow resets the gradient buffer\n",
    "whenever we record a new gradient.\n"
   ]
  },
  {
   "cell_type": "code",
   "id": "4f6191bc",
   "metadata": {
    "execution": {
     "iopub.execute_input": "2023-08-18T20:06:11.440829Z",
     "iopub.status.busy": "2023-08-18T20:06:11.440195Z",
     "iopub.status.idle": "2023-08-18T20:06:11.448608Z",
     "shell.execute_reply": "2023-08-18T20:06:11.447862Z"
    },
    "origin_pos": 38,
    "tab": [
     "tensorflow"
    ],
    "id": "4f6191bc",
    "outputId": "c18c275d-e951-4f8c-d04c-82564cd55c85",
    "ExecuteTime": {
     "end_time": "2024-08-28T05:46:58.467333Z",
     "start_time": "2024-08-28T05:46:58.461305Z"
    }
   },
   "source": [
    "with tf.GradientTape() as t:\n",
    "    y = tf.reduce_sum(x)\n",
    "\n",
    "t.gradient(y, x)  # Overwritten by the newly calculated gradient"
   ],
   "outputs": [
    {
     "data": {
      "text/plain": [
       "<tf.Tensor: shape=(4,), dtype=float32, numpy=array([1., 1., 1., 1.], dtype=float32)>"
      ]
     },
     "execution_count": 27,
     "metadata": {},
     "output_type": "execute_result"
    }
   ],
   "execution_count": 27
  },
  {
   "cell_type": "markdown",
   "id": "2267662f",
   "metadata": {
    "origin_pos": 40,
    "id": "2267662f"
   },
   "source": [
    "## Backward for Non-Scalar Variables\n",
    "\n",
    "When `y` is a vector,\n",
    "the most natural representation\n",
    "of the derivative of  `y`\n",
    "with respect to a vector `x`\n",
    "is a matrix called the *Jacobian*\n",
    "that contains the partial derivatives\n",
    "of each component of `y`\n",
    "with respect to each component of `x`.\n",
    "Likewise, for higher-order `y` and `x`,\n",
    "the result of differentiation could be an even higher-order tensor.\n",
    "\n",
    "While Jacobians do show up in some\n",
    "advanced machine learning techniques,\n",
    "more commonly we want to sum up\n",
    "the gradients of each component of `y`\n",
    "with respect to the full vector `x`,\n",
    "yielding a vector of the same shape as `x`.\n",
    "For example, we often have a vector\n",
    "representing the value of our loss function\n",
    "calculated separately for each example among\n",
    "a *batch* of training examples.\n",
    "Here, we just want to (**sum up the gradients\n",
    "computed individually for each example**).\n"
   ]
  },
  {
   "cell_type": "markdown",
   "id": "8e50c75c",
   "metadata": {
    "origin_pos": 43,
    "tab": [
     "tensorflow"
    ],
    "id": "8e50c75c"
   },
   "source": [
    "By default, TensorFlow returns the gradient of the sum.\n",
    "In other words, rather than returning\n",
    "the Jacobian $\\partial_{\\mathbf{x}} \\mathbf{y}$,\n",
    "it returns the gradient of the sum\n",
    "$\\partial_{\\mathbf{x}} \\sum_i y_i$.\n"
   ]
  },
  {
   "cell_type": "code",
   "id": "ef1a3a1c",
   "metadata": {
    "execution": {
     "iopub.execute_input": "2023-08-18T20:06:11.453205Z",
     "iopub.status.busy": "2023-08-18T20:06:11.452573Z",
     "iopub.status.idle": "2023-08-18T20:06:11.460303Z",
     "shell.execute_reply": "2023-08-18T20:06:11.459535Z"
    },
    "origin_pos": 46,
    "tab": [
     "tensorflow"
    ],
    "id": "ef1a3a1c",
    "outputId": "a87eef02-b4a5-4f76-a2f0-1fcf1ccfe598",
    "ExecuteTime": {
     "end_time": "2024-08-28T05:46:58.531574Z",
     "start_time": "2024-08-28T05:46:58.524431Z"
    }
   },
   "source": [
    "with tf.GradientTape() as t:\n",
    "    y = x * x\n",
    "t.gradient(y, x)  # Same as y = tf.reduce_sum(x * x)"
   ],
   "outputs": [
    {
     "data": {
      "text/plain": [
       "<tf.Tensor: shape=(4,), dtype=float32, numpy=array([0., 2., 4., 6.], dtype=float32)>"
      ]
     },
     "execution_count": 28,
     "metadata": {},
     "output_type": "execute_result"
    }
   ],
   "execution_count": 28
  },
  {
   "cell_type": "markdown",
   "id": "c6bcc0f8",
   "metadata": {
    "origin_pos": 48,
    "id": "c6bcc0f8"
   },
   "source": [
    "## Detaching Computation\n",
    "\n",
    "Sometimes, we wish to [**move some calculations\n",
    "outside of the recorded computational graph.**]\n",
    "For example, say that we use the input\n",
    "to create some auxiliary intermediate terms\n",
    "for which we do not want to compute a gradient.\n",
    "In this case, we need to *detach*\n",
    "the respective computational graph\n",
    "from the final result.\n",
    "The following toy example makes this clearer:\n",
    "suppose we have `z = x * y` and `y = x * x`\n",
    "but we want to focus on the *direct* influence of `x` on `z`\n",
    "rather than the influence conveyed via `y`.\n",
    "In this case, we can create a new variable `u`\n",
    "that takes the same value as `y`\n",
    "but whose *provenance* (how it was created)\n",
    "has been wiped out.\n",
    "Thus `u` has no ancestors in the graph\n",
    "and gradients do not flow through `u` to `x`.\n",
    "For example, taking the gradient of `z = x * u`\n",
    "will yield the result `u`,\n",
    "(not `3 * x * x` as you might have\n",
    "expected since `z = x * x * x`).\n"
   ]
  },
  {
   "cell_type": "code",
   "id": "51bd574b",
   "metadata": {
    "execution": {
     "iopub.execute_input": "2023-08-18T20:06:11.464783Z",
     "iopub.status.busy": "2023-08-18T20:06:11.464171Z",
     "iopub.status.idle": "2023-08-18T20:06:11.472266Z",
     "shell.execute_reply": "2023-08-18T20:06:11.471510Z"
    },
    "origin_pos": 51,
    "tab": [
     "tensorflow"
    ],
    "id": "51bd574b",
    "outputId": "4a6c2a8a-04d8-49d6-d6c1-489dd950b98d",
    "ExecuteTime": {
     "end_time": "2024-08-28T05:46:58.599500Z",
     "start_time": "2024-08-28T05:46:58.592678Z"
    }
   },
   "source": [
    "# Set persistent=True to preserve the compute graph.\n",
    "# This lets us run t.gradient more than once\n",
    "with tf.GradientTape(persistent=True) as t:\n",
    "    y = x * x\n",
    "    u = tf.stop_gradient(y)\n",
    "    z = u * x\n",
    "\n",
    "x_grad = t.gradient(z, x)\n",
    "x_grad == u"
   ],
   "outputs": [
    {
     "data": {
      "text/plain": [
       "<tf.Tensor: shape=(4,), dtype=bool, numpy=array([ True,  True,  True,  True])>"
      ]
     },
     "execution_count": 29,
     "metadata": {},
     "output_type": "execute_result"
    }
   ],
   "execution_count": 29
  },
  {
   "cell_type": "markdown",
   "id": "3bb5edce",
   "metadata": {
    "origin_pos": 53,
    "id": "3bb5edce"
   },
   "source": [
    "Note that while this procedure\n",
    "detaches `y`'s ancestors\n",
    "from the graph leading to `z`,\n",
    "the computational graph leading to `y`\n",
    "persists and thus we can calculate\n",
    "the gradient of `y` with respect to `x`.\n"
   ]
  },
  {
   "cell_type": "code",
   "id": "89c06f84",
   "metadata": {
    "execution": {
     "iopub.execute_input": "2023-08-18T20:06:11.476639Z",
     "iopub.status.busy": "2023-08-18T20:06:11.476047Z",
     "iopub.status.idle": "2023-08-18T20:06:11.482151Z",
     "shell.execute_reply": "2023-08-18T20:06:11.481386Z"
    },
    "origin_pos": 56,
    "tab": [
     "tensorflow"
    ],
    "id": "89c06f84",
    "outputId": "44d195d8-143f-48e0-d903-6bc83e8e610b",
    "ExecuteTime": {
     "end_time": "2024-08-28T05:46:58.661543Z",
     "start_time": "2024-08-28T05:46:58.655642Z"
    }
   },
   "source": [
    "t.gradient(y, x) == 2 * x"
   ],
   "outputs": [
    {
     "data": {
      "text/plain": [
       "<tf.Tensor: shape=(4,), dtype=bool, numpy=array([ True,  True,  True,  True])>"
      ]
     },
     "execution_count": 30,
     "metadata": {},
     "output_type": "execute_result"
    }
   ],
   "execution_count": 30
  },
  {
   "cell_type": "markdown",
   "id": "e27bd5f0",
   "metadata": {
    "origin_pos": 58,
    "id": "e27bd5f0"
   },
   "source": [
    "## Gradients and Python Control Flow\n",
    "\n",
    "So far we reviewed cases where the path from input to output\n",
    "was well defined via a function such as `z = x * x * x`.\n",
    "Programming offers us a lot more freedom in how we compute results.\n",
    "For instance, we can make them depend on auxiliary variables\n",
    "or condition choices on intermediate results.\n",
    "One benefit of using automatic differentiation\n",
    "is that [**even if**] building the computational graph of\n",
    "(**a function required passing through a maze of Python control flow**)\n",
    "(e.g., conditionals, loops, and arbitrary function calls),\n",
    "(**we can still calculate the gradient of the resulting variable.**)\n",
    "To illustrate this, consider the following code snippet where\n",
    "the number of iterations of the `while` loop\n",
    "and the evaluation of the `if` statement\n",
    "both depend on the value of the input `a`.\n"
   ]
  },
  {
   "cell_type": "code",
   "id": "01db7884",
   "metadata": {
    "execution": {
     "iopub.execute_input": "2023-08-18T20:06:11.486611Z",
     "iopub.status.busy": "2023-08-18T20:06:11.485965Z",
     "iopub.status.idle": "2023-08-18T20:06:11.490247Z",
     "shell.execute_reply": "2023-08-18T20:06:11.489476Z"
    },
    "origin_pos": 61,
    "tab": [
     "tensorflow"
    ],
    "id": "01db7884",
    "ExecuteTime": {
     "end_time": "2024-08-28T05:46:58.721998Z",
     "start_time": "2024-08-28T05:46:58.719032Z"
    }
   },
   "source": [
    "def f(a):\n",
    "    b = a * 2\n",
    "    while tf.norm(b) < 1000:\n",
    "        b = b * 2\n",
    "    if tf.reduce_sum(b) > 0:\n",
    "        c = b\n",
    "    else:\n",
    "        c = 100 * b\n",
    "    return c"
   ],
   "outputs": [],
   "execution_count": 31
  },
  {
   "cell_type": "markdown",
   "id": "4b2e3749",
   "metadata": {
    "origin_pos": 63,
    "id": "4b2e3749"
   },
   "source": [
    "Below, we call this function, passing in a random value, as input.\n",
    "Since the input is a random variable,\n",
    "we do not know what form\n",
    "the computational graph will take.\n",
    "However, whenever we execute `f(a)`\n",
    "on a specific input, we realize\n",
    "a specific computational graph\n",
    "and can subsequently run `backward`.\n"
   ]
  },
  {
   "cell_type": "code",
   "id": "b0ae9863",
   "metadata": {
    "execution": {
     "iopub.execute_input": "2023-08-18T20:06:11.494696Z",
     "iopub.status.busy": "2023-08-18T20:06:11.494106Z",
     "iopub.status.idle": "2023-08-18T20:06:11.521514Z",
     "shell.execute_reply": "2023-08-18T20:06:11.520736Z"
    },
    "origin_pos": 66,
    "tab": [
     "tensorflow"
    ],
    "id": "b0ae9863",
    "outputId": "fb9ca8e3-494e-4798-b3f6-e617e8780dc0",
    "ExecuteTime": {
     "end_time": "2024-08-28T05:46:58.797339Z",
     "start_time": "2024-08-28T05:46:58.782485Z"
    }
   },
   "source": [
    "a = tf.Variable(tf.random.normal(shape=()))\n",
    "with tf.GradientTape() as t:\n",
    "    d = f(a)\n",
    "d_grad = t.gradient(d, a)\n",
    "d_grad"
   ],
   "outputs": [
    {
     "data": {
      "text/plain": [
       "<tf.Tensor: shape=(), dtype=float32, numpy=102400.0>"
      ]
     },
     "execution_count": 32,
     "metadata": {},
     "output_type": "execute_result"
    }
   ],
   "execution_count": 32
  },
  {
   "cell_type": "markdown",
   "id": "0b527579",
   "metadata": {
    "origin_pos": 68,
    "id": "0b527579"
   },
   "source": [
    "Even though our function `f` is, for demonstration purposes, a bit contrived,\n",
    "its dependence on the input is quite simple:\n",
    "it is a *linear* function of `a`\n",
    "with piecewise defined scale.\n",
    "As such, `f(a) / a` is a vector of constant entries\n",
    "and, moreover, `f(a) / a` needs to match\n",
    "the gradient of `f(a)` with respect to `a`.\n"
   ]
  },
  {
   "cell_type": "code",
   "id": "17bdac35",
   "metadata": {
    "execution": {
     "iopub.execute_input": "2023-08-18T20:06:11.525328Z",
     "iopub.status.busy": "2023-08-18T20:06:11.524694Z",
     "iopub.status.idle": "2023-08-18T20:06:11.531377Z",
     "shell.execute_reply": "2023-08-18T20:06:11.530587Z"
    },
    "origin_pos": 71,
    "tab": [
     "tensorflow"
    ],
    "id": "17bdac35",
    "outputId": "916fdfc9-a28b-49d1-94a3-5a10856bc882",
    "ExecuteTime": {
     "end_time": "2024-08-28T05:46:58.866737Z",
     "start_time": "2024-08-28T05:46:58.860560Z"
    }
   },
   "source": [
    "d_grad == d / a"
   ],
   "outputs": [
    {
     "data": {
      "text/plain": [
       "<tf.Tensor: shape=(), dtype=bool, numpy=False>"
      ]
     },
     "execution_count": 33,
     "metadata": {},
     "output_type": "execute_result"
    }
   ],
   "execution_count": 33
  },
  {
   "cell_type": "markdown",
   "id": "0c6ba88a",
   "metadata": {
    "origin_pos": 73,
    "id": "0c6ba88a"
   },
   "source": [
    "Dynamic control flow is very common in deep learning.\n",
    "For instance, when processing text, the computational graph\n",
    "depends on the length of the input.\n",
    "In these cases, automatic differentiation\n",
    "becomes vital for statistical modeling\n",
    "since it is impossible to compute the gradient *a priori*.\n",
    "\n",
    "## Discussion\n",
    "\n",
    "You have now gotten a taste of the power of automatic differentiation.\n",
    "The development of libraries for calculating derivatives\n",
    "both automatically and efficiently\n",
    "has been a massive productivity booster\n",
    "for deep learning practitioners,\n",
    "liberating them so they can focus on less menial.\n",
    "Moreover, autograd lets us design massive models\n",
    "for which pen and paper gradient computations\n",
    "would be prohibitively time consuming.\n",
    "Interestingly, while we use autograd to *optimize* models\n",
    "(in a statistical sense)\n",
    "the *optimization* of autograd libraries themselves\n",
    "(in a computational sense)\n",
    "is a rich subject\n",
    "of vital interest to framework designers.\n",
    "Here, tools from compilers and graph manipulation\n",
    "are leveraged to compute results\n",
    "in the most expedient and memory-efficient manner.\n",
    "\n",
    "For now, try to remember these basics: (i) attach gradients to those variables with respect to which we desire derivatives; (ii) record the computation of the target value; (iii) execute the backpropagation function; and  (iv) access the resulting gradient.\n",
    "\n",
    "\n",
    "## Exercises\n",
    "\n",
    "1. Why is the second derivative much more expensive to compute than the first derivative?\n",
    "1. After running the function for backpropagation, immediately run it again and see what happens. Investigate.\n",
    "1. In the control flow example where we calculate the derivative of `d` with respect to `a`, what would happen if we changed the variable `a` to a random vector or a matrix? At this point, the result of the calculation `f(a)` is no longer a scalar. What happens to the result? How do we analyze this?\n",
    "1. Let $f(x) = \\sin(x)$. Plot the graph of $f$ and of its derivative $f'$. Do not exploit the fact that $f'(x) = \\cos(x)$ but rather use automatic differentiation to get the result.\n",
    "1. Let $f(x) = ((\\log x^2) \\cdot \\sin x) + x^{-1}$. Write out a dependency graph tracing results from $x$ to $f(x)$.\n",
    "1. Use the chain rule to compute the derivative $\\frac{df}{dx}$ of the aforementioned function, placing each term on the dependency graph that you constructed previously.\n",
    "1. Given the graph and the intermediate derivative results, you have a number of options when computing the gradient. Evaluate the result once starting from $x$ to $f$ and once from $f$ tracing back to $x$. The path from $x$ to $f$ is commonly known as *forward differentiation*, whereas the path from $f$ to $x$ is known as backward differentiation.\n",
    "1. When might you want to use forward, and when backward, differentiation? Hint: consider the amount of intermediate data needed, the ability to parallelize steps, and the size of matrices and vectors involved.\n"
   ]
  },
  {
   "cell_type": "markdown",
   "id": "577b4611",
   "metadata": {
    "origin_pos": 76,
    "tab": [
     "tensorflow"
    ],
    "id": "577b4611"
   },
   "source": [
    "[Discussions](https://discuss.d2l.ai/t/200)\n"
   ]
  },
  {
   "metadata": {},
   "cell_type": "markdown",
   "source": [
    "## Nho's Exercise\n",
    "\n",
    "### 1. Of course, why not? \n",
    "### 2. "
   ],
   "id": "ac56b57600203c96"
  },
  {
   "metadata": {
    "ExecuteTime": {
     "end_time": "2024-08-28T05:46:58.929814Z",
     "start_time": "2024-08-28T05:46:58.925875Z"
    }
   },
   "cell_type": "code",
   "source": [
    "x = tf.range(4, dtype=tf.float32)\n",
    "x = tf.Variable(x)"
   ],
   "id": "edfe3b6d1997dea2",
   "outputs": [],
   "execution_count": 34
  },
  {
   "metadata": {
    "ExecuteTime": {
     "end_time": "2024-08-28T05:46:58.980424Z",
     "start_time": "2024-08-28T05:46:58.974652Z"
    }
   },
   "cell_type": "code",
   "source": [
    "with tf.GradientTape() as t:\n",
    "    y = tf.tensordot(x, x, axes=1)"
   ],
   "id": "1936d521a8fdf413",
   "outputs": [],
   "execution_count": 35
  },
  {
   "metadata": {
    "ExecuteTime": {
     "end_time": "2024-08-28T05:46:59.030578Z",
     "start_time": "2024-08-28T05:46:59.024780Z"
    }
   },
   "cell_type": "code",
   "source": "t.gradient(y, x)",
   "id": "5b6b37d318c51a3a",
   "outputs": [
    {
     "data": {
      "text/plain": [
       "<tf.Tensor: shape=(4,), dtype=float32, numpy=array([0., 2., 4., 6.], dtype=float32)>"
      ]
     },
     "execution_count": 36,
     "metadata": {},
     "output_type": "execute_result"
    }
   ],
   "execution_count": 36
  },
  {
   "metadata": {
    "ExecuteTime": {
     "end_time": "2024-08-28T05:46:59.104244Z",
     "start_time": "2024-08-28T05:46:59.082008Z"
    }
   },
   "cell_type": "code",
   "source": "t.gradient(y, x)",
   "id": "6f6706e84ba23be0",
   "outputs": [
    {
     "ename": "RuntimeError",
     "evalue": "A non-persistent GradientTape can only be used to compute one set of gradients (or jacobians)",
     "output_type": "error",
     "traceback": [
      "\u001B[0;31m---------------------------------------------------------------------------\u001B[0m",
      "\u001B[0;31mRuntimeError\u001B[0m                              Traceback (most recent call last)",
      "Cell \u001B[0;32mIn[37], line 1\u001B[0m\n\u001B[0;32m----> 1\u001B[0m t\u001B[38;5;241m.\u001B[39mgradient(y, x)\n",
      "File \u001B[0;32m~/miniconda3/envs/AIChal/lib/python3.11/site-packages/tensorflow/python/eager/backprop.py:1005\u001B[0m, in \u001B[0;36mGradientTape.gradient\u001B[0;34m(self, target, sources, output_gradients, unconnected_gradients)\u001B[0m\n\u001B[1;32m    965\u001B[0m \u001B[38;5;250m\u001B[39m\u001B[38;5;124;03m\"\"\"Computes the gradient using operations recorded in context of this tape.\u001B[39;00m\n\u001B[1;32m    966\u001B[0m \n\u001B[1;32m    967\u001B[0m \u001B[38;5;124;03mNote: Unless you set `persistent=True` a GradientTape can only be used to\u001B[39;00m\n\u001B[0;32m   (...)\u001B[0m\n\u001B[1;32m   1002\u001B[0m \u001B[38;5;124;03m   called with an unknown value.\u001B[39;00m\n\u001B[1;32m   1003\u001B[0m \u001B[38;5;124;03m\"\"\"\u001B[39;00m\n\u001B[1;32m   1004\u001B[0m \u001B[38;5;28;01mif\u001B[39;00m \u001B[38;5;28mself\u001B[39m\u001B[38;5;241m.\u001B[39m_tape \u001B[38;5;129;01mis\u001B[39;00m \u001B[38;5;28;01mNone\u001B[39;00m:\n\u001B[0;32m-> 1005\u001B[0m   \u001B[38;5;28;01mraise\u001B[39;00m \u001B[38;5;167;01mRuntimeError\u001B[39;00m(\u001B[38;5;124m\"\u001B[39m\u001B[38;5;124mA non-persistent GradientTape can only be used to \u001B[39m\u001B[38;5;124m\"\u001B[39m\n\u001B[1;32m   1006\u001B[0m                      \u001B[38;5;124m\"\u001B[39m\u001B[38;5;124mcompute one set of gradients (or jacobians)\u001B[39m\u001B[38;5;124m\"\u001B[39m)\n\u001B[1;32m   1007\u001B[0m \u001B[38;5;28;01mif\u001B[39;00m \u001B[38;5;28mself\u001B[39m\u001B[38;5;241m.\u001B[39m_recording:\n\u001B[1;32m   1008\u001B[0m   \u001B[38;5;28;01mif\u001B[39;00m \u001B[38;5;129;01mnot\u001B[39;00m \u001B[38;5;28mself\u001B[39m\u001B[38;5;241m.\u001B[39m_persistent:\n",
      "\u001B[0;31mRuntimeError\u001B[0m: A non-persistent GradientTape can only be used to compute one set of gradients (or jacobians)"
     ]
    }
   ],
   "execution_count": 37
  },
  {
   "metadata": {},
   "cell_type": "markdown",
   "source": [
    "It causes an error: A non-persistent GradientTape can only be used to compute one set of gradients.\n",
    "<img src=\"./images/img_2.5_1.png\"/>\n",
    "\n",
    "If we want to call gradient() method more than one time. We have to set the \"presistent\" argument to be true. [tf.GradientTape()](https://www.tensorflow.org/api_docs/python/tf/GradientTape)\n",
    "\n",
    "### 3.  "
   ],
   "id": "db5c0a9ac2b048ca"
  },
  {
   "metadata": {
    "ExecuteTime": {
     "end_time": "2024-08-28T05:46:59.155837969Z",
     "start_time": "2024-08-28T05:43:59.894528Z"
    }
   },
   "cell_type": "code",
   "source": [
    "def f(a):\n",
    "    b = a * 2\n",
    "    while b.norm() < 1000:\n",
    "        b = b * 2\n",
    "    if b.sum() > 0:\n",
    "        c = b\n",
    "    else:\n",
    "        c = 100 * b\n",
    "    return c"
   ],
   "id": "f9952091edf4d1d0",
   "outputs": [],
   "execution_count": 1
  },
  {
   "metadata": {
    "ExecuteTime": {
     "end_time": "2024-08-28T05:49:17.256936Z",
     "start_time": "2024-08-28T05:49:17.207110Z"
    }
   },
   "cell_type": "code",
   "source": [
    "a = tf.Variable(tf.random.normal(shape=(2, 3)))\n",
    "with tf.GradientTape() as t:\n",
    "    d = f(a)\n",
    "\n",
    "d_grad = t.gradient(d, a)\n",
    "d_grad"
   ],
   "id": "d41bb6f12d119b27",
   "outputs": [
    {
     "data": {
      "text/plain": [
       "<tf.Tensor: shape=(2, 3), dtype=float32, numpy=\n",
       "array([[51200., 51200., 51200.],\n",
       "       [51200., 51200., 51200.]], dtype=float32)>"
      ]
     },
     "execution_count": 42,
     "metadata": {},
     "output_type": "execute_result"
    }
   ],
   "execution_count": 42
  },
  {
   "metadata": {
    "ExecuteTime": {
     "end_time": "2024-08-28T05:48:48.547044Z",
     "start_time": "2024-08-28T05:48:48.529067Z"
    }
   },
   "cell_type": "code",
   "source": "d_grad == d / a",
   "id": "165e0ca4c7f8460d",
   "outputs": [
    {
     "data": {
      "text/plain": [
       "<tf.Tensor: shape=(2, 3), dtype=bool, numpy=\n",
       "array([[ True,  True,  True],\n",
       "       [ True,  True,  True]])>"
      ]
     },
     "execution_count": 41,
     "metadata": {},
     "output_type": "execute_result"
    }
   ],
   "execution_count": 41
  },
  {
   "metadata": {},
   "cell_type": "markdown",
   "source": "### 4.",
   "id": "82cf5ea36708968d"
  },
  {
   "metadata": {
    "ExecuteTime": {
     "end_time": "2024-08-28T07:12:11.820020Z",
     "start_time": "2024-08-28T07:12:11.440752Z"
    }
   },
   "cell_type": "code",
   "source": [
    "import matplotlib.pyplot as plt\n",
    "from tensorflow.experimental import numpy as tnp\n",
    "\n",
    "x = tf.Variable(tf.linspace(-2*tnp.pi, 2*tnp.pi, 100), name = 'x')\n",
    "with tf.GradientTape() as t:\n",
    "    f = tf.sin(x)\n",
    "\n",
    "diff_f = t.gradient(f, x)\n",
    "\n",
    "plt.plot(x, f, label = \"f(x)\")\n",
    "plt.plot(x, diff_f, label = \"f'(x)\")\n",
    "plt.legend()"
   ],
   "id": "4fa0eccfa5c1fd9",
   "outputs": [
    {
     "data": {
      "text/plain": [
       "<matplotlib.legend.Legend at 0x7903321bbb50>"
      ]
     },
     "execution_count": 63,
     "metadata": {},
     "output_type": "execute_result"
    },
    {
     "data": {
      "text/plain": [
       "<Figure size 640x480 with 1 Axes>"
      ],
      "image/png": "[encoded data removed]"
     },
     "metadata": {},
     "output_type": "display_data"
    }
   ],
   "execution_count": 63
  },
  {
   "metadata": {},
   "cell_type": "markdown",
   "source": [
    "### 5.\n",
    "<img src=\"./images/img_2.5_2.png\" />"
   ],
   "id": "e74bbbde321748a1"
  },
  {
   "metadata": {},
   "cell_type": "markdown",
   "source": [
    "### 7. Skip giong OrzGiaHuy\n",
    "\n",
    "### 8. Sorry bc I'm using GPT\n",
    "\n",
    "| Criteria                            | Forward Differentiation                                     | Backward Differentiation                                    |\n",
    "|-------------------------------------|-------------------------------------------------------------|-------------------------------------------------------------|\n",
    "| Amount of intermediate data needed  | Proportional to the number of input variables (low for fewer inputs) | Proportional to the number of output variables (low for fewer outputs) |\n",
    "| Ability to parallelize steps        | Limited parallelization; more sequential due to dependency on previous steps | High parallelization potential; backward pass can be parallelized across all nodes of the computational graph |\n",
    "| Size of matrices and vectors involved| Efficient for small to medium-sized vectors/matrices since each input variable is differentiated separately | More efficient for large-scale models (e.g., deep neural networks) since gradients are computed for all parameters in one backward pass |\n"
   ],
   "id": "1117adcc413e11f"
  }
 ],
 "metadata": {
  "kernelspec": {
   "display_name": "Python 3 (ipykernel)",
   "name": "python3",
   "language": "python"
  },
  "language_info": {
   "name": "python"
  },
  "required_libs": [],
  "colab": {
   "provenance": []
  }
 },
 "nbformat": 4,
 "nbformat_minor": 5
}
